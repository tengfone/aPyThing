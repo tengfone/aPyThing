{
 "cells": [
  {
   "cell_type": "markdown",
   "metadata": {},
   "source": [
    "Practice Questions \n",
    "Remember, Google and stackoverflow are your best friends. Do not worry if you cannot solve all the problems, practice makes perfect! Also, ask in the telegram group so that everyone can learn together. Happy coding!\n",
    "\n",
    "Remember to always read the entire question first before attempting  \n",
    "\n",
    "Think in pseudo code first (i.e, I should do this question by reversing the list first, then iterating through each element while x is smaller than 2 …. )   \n",
    "\n",
    "There are always many solutions to solve a coding problem (Concepts mentioned may not be absolute) \n",
    "\n"
   ]
  },
  {
   "cell_type": "markdown",
   "metadata": {},
   "source": [
    "## Easy\n",
    "\n"
   ]
  },
  {
   "cell_type": "markdown",
   "metadata": {},
   "source": [
    "### Question 1\n",
    "Given the string “welcome introduction to python”, output it into a list and remove all but the last element. \n",
    "\n",
    "Expected output: [“python”]  \n",
    "\n",
    "Concepts involved: list manipulation, slicing  \n",
    "Hint: Use split() \n"
   ]
  },
  {
   "cell_type": "code",
   "execution_count": null,
   "metadata": {},
   "outputs": [],
   "source": [
    "# Insert Code here"
   ]
  },
  {
   "cell_type": "markdown",
   "metadata": {},
   "source": [
    "### Question 2"
   ]
  },
  {
   "cell_type": "markdown",
   "metadata": {},
   "source": [
    "Write a program that receives 2 user inputs and compute the following (x + y) - (x * y).\n",
    "\n",
    "\tSample input: x = 3, y = 4 \n",
    "\tExpected output: -5 \n",
    "\tConcepts involved: operators \n"
   ]
  },
  {
   "cell_type": "code",
   "execution_count": null,
   "metadata": {},
   "outputs": [],
   "source": [
    "# Insert Code here"
   ]
  },
  {
   "cell_type": "markdown",
   "metadata": {},
   "source": [
    "### Question 3"
   ]
  },
  {
   "cell_type": "markdown",
   "metadata": {},
   "source": [
    "Write a program to check if a given user input is a power of square. \n",
    "\t\n",
    "\tSample input: 9\n",
    "\tExpected output: True \n",
    "\tConcepts involved: operators, input\n"
   ]
  },
  {
   "cell_type": "code",
   "execution_count": null,
   "metadata": {},
   "outputs": [],
   "source": [
    "# Insert Code here"
   ]
  },
  {
   "cell_type": "markdown",
   "metadata": {},
   "source": [
    "### Question 4"
   ]
  },
  {
   "cell_type": "markdown",
   "metadata": {},
   "source": [
    "Write a program to reverse a given user input. You may ignore negative numbers.\n",
    "\n",
    "\tSample input: 234\n",
    "Expected output 432\n",
    "\tConcepts involved: loops \n"
   ]
  },
  {
   "cell_type": "code",
   "execution_count": null,
   "metadata": {},
   "outputs": [],
   "source": [
    "# Insert Code here"
   ]
  },
  {
   "cell_type": "markdown",
   "metadata": {},
   "source": [
    "## Intermediate"
   ]
  },
  {
   "cell_type": "markdown",
   "metadata": {},
   "source": [
    "### Question 1"
   ]
  },
  {
   "cell_type": "markdown",
   "metadata": {},
   "source": [
    "Write a program which will find all such numbers which are divisible by 7 but are not a multiple of 5, between 1900 and 2000(both included). The numbers obtained should be printed in a list.  \n",
    "\n",
    "Expected output: [1904, 1911, 1918, 1932, 1939, 1946, 1953, 1967, 1974, 1981, 1988]  \n",
    "\n",
    "Concepts involved: operators, loops, list  \n",
    "\n",
    "Hint: Use range() \n"
   ]
  },
  {
   "cell_type": "code",
   "execution_count": null,
   "metadata": {},
   "outputs": [],
   "source": [
    "# Insert Code here"
   ]
  },
  {
   "cell_type": "markdown",
   "metadata": {},
   "source": [
    "### Question 2"
   ]
  },
  {
   "cell_type": "markdown",
   "metadata": {},
   "source": [
    "With a given integral number n, write a program to generate a dictionary that contains (i, i*i) such that is an integral number between 1 and n (both included). Suppose n = 8,  \n",
    "\n",
    "\tExpected output: {1: 1, 2: 4, 3: 9, 4: 16, 5: 25, 6: 36, 7: 49, 8: 64)   \n",
    "    \n",
    "Concepts involved: operators, loops, dictionary\n"
   ]
  },
  {
   "cell_type": "code",
   "execution_count": null,
   "metadata": {},
   "outputs": [],
   "source": [
    "# Insert Code here"
   ]
  },
  {
   "cell_type": "markdown",
   "metadata": {},
   "source": [
    "### Question 3"
   ]
  },
  {
   "cell_type": "markdown",
   "metadata": {},
   "source": [
    "Write a program to calculate the number of letters and digits given a string. Suppose the string is “vGcnX1tikVEwgAWGE39y”  \n",
    "\n",
    "\n",
    "Expected output: There are 17 letters and 3 digits  \n",
    "\n",
    "Concepts involved: operators, in-built functions, loops  \n",
    "\n",
    "Hint: Use isdigit() and isalpha()\n"
   ]
  },
  {
   "cell_type": "code",
   "execution_count": null,
   "metadata": {},
   "outputs": [],
   "source": [
    "# Insert Code here"
   ]
  },
  {
   "cell_type": "markdown",
   "metadata": {},
   "source": [
    "### Question 4"
   ]
  },
  {
   "cell_type": "markdown",
   "metadata": {},
   "source": [
    "Write a program to compute the frequency of the letters from the input.  The output should be in a dictionary.  Suppose the string given is “wyyj5vwgdlvqwsajbremwdfq35bvbc”\n",
    "\n",
    "Expected output (order don’t matter) : {‘3’:1, ‘5’:2, ‘a’:1, ‘b’:3, ‘c’:1, ‘d’:2, ‘e’:1, ‘f’:1, ‘g’:1, ‘j’:2,   ‘l’:1, ‘m’:1, ‘q’:2, ‘r’:1, ‘s’:1, ‘v’:3, ‘w’:4, ‘y’:2}   \n",
    "\n",
    "Concepts involved: operators, loops, dictionary \n"
   ]
  },
  {
   "cell_type": "code",
   "execution_count": null,
   "metadata": {},
   "outputs": [],
   "source": [
    "# Insert Code here"
   ]
  },
  {
   "cell_type": "markdown",
   "metadata": {},
   "source": [
    "## Advance"
   ]
  },
  {
   "cell_type": "markdown",
   "metadata": {},
   "source": [
    "### Question 1"
   ]
  },
  {
   "cell_type": "markdown",
   "metadata": {},
   "source": [
    "Write a Python program to construct the following pattern:\n",
    " \n",
    "1  \n",
    "\n",
    "2 2  \n",
    "\n",
    "3 3 3  \n",
    "\n",
    "4 4 4 4  \n",
    "\n",
    "5 5 5 5 5  \n",
    "\n",
    "Concepts involved: nested loops \n",
    "  \n",
    "  Hint: Use range() \n"
   ]
  },
  {
   "cell_type": "code",
   "execution_count": null,
   "metadata": {},
   "outputs": [],
   "source": [
    "# Insert Code here"
   ]
  },
  {
   "cell_type": "markdown",
   "metadata": {},
   "source": [
    "### Question 2"
   ]
  },
  {
   "cell_type": "markdown",
   "metadata": {},
   "source": [
    "\n",
    "Write a Python program to get the Fibonacci series between 0 to 50. The output should be in a list. The first 2 elements are given to you [1, 1].  \n",
    "\n",
    "\n",
    "Expected output [1, 1, 2, 3, 5, 8, 13, 21, 34]   \n",
    "\n",
    "Concepts involved: operators, loops   \n",
    "\n",
    "Hint: Use while-loop      "
   ]
  },
  {
   "cell_type": "code",
   "execution_count": null,
   "metadata": {},
   "outputs": [],
   "source": [
    "# Insert Code here"
   ]
  },
  {
   "cell_type": "markdown",
   "metadata": {},
   "source": [
    "### Question 3"
   ]
  },
  {
   "cell_type": "markdown",
   "metadata": {},
   "source": [
    "Given a list of int nums, return two numbers such that they add up to target. You may assume that there is only 1 unique solution.   \n",
    "\n",
    " \n",
    "Sample input: nums = [2,7,11,15], target = 9   \n",
    "Expected output: [2, 7] (because 2 + 7 = 9)  \n",
    "\n",
    "Sample input: nums = [3,2,4], target = 6  \n",
    "Expected output: [2, 4] (because 2 + 4 = 6)  \n",
    "\n",
    "Concepts: nested for-loops \n"
   ]
  },
  {
   "cell_type": "code",
   "execution_count": null,
   "metadata": {},
   "outputs": [],
   "source": [
    "# Insert Code here"
   ]
  },
  {
   "cell_type": "markdown",
   "metadata": {},
   "source": [
    "### Question 4"
   ]
  },
  {
   "cell_type": "markdown",
   "metadata": {},
   "source": [
    "Given a list, output all the permutations of the list.\n",
    "\n",
    "Sample input: [1, 2, 3]  \n",
    "\n",
    "Expected output: [1, 2, 3]\n",
    "   [1, 3, 2]\n",
    "   [2, 1, 3]\n",
    "   [2, 3, 1]\n",
    "   [3, 1, 2]\n",
    "   [3, 2, 1]\n",
    "\n",
    "Concepts involved: loops, slicing"
   ]
  },
  {
   "cell_type": "code",
   "execution_count": null,
   "metadata": {},
   "outputs": [],
   "source": [
    "# Insert Code here"
   ]
  }
 ],
 "metadata": {
  "kernelspec": {
   "display_name": "Python 3",
   "language": "python",
   "name": "python3"
  },
  "language_info": {
   "codemirror_mode": {
    "name": "ipython",
    "version": 3
   },
   "file_extension": ".py",
   "mimetype": "text/x-python",
   "name": "python",
   "nbconvert_exporter": "python",
   "pygments_lexer": "ipython3",
   "version": "3.7.1"
  }
 },
 "nbformat": 4,
 "nbformat_minor": 2
}
